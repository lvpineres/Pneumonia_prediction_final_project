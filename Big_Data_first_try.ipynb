{
  "cells": [
    {
      "cell_type": "markdown",
      "metadata": {
        "id": "view-in-github",
        "colab_type": "text"
      },
      "source": [
        "<a href=\"https://colab.research.google.com/github/lvpineres/Pneumonia_prediction_final_project/blob/main/Big_Data_first_try.ipynb\" target=\"_parent\"><img src=\"https://colab.research.google.com/assets/colab-badge.svg\" alt=\"Open In Colab\"/></a>"
      ]
    },
    {
      "cell_type": "markdown",
      "metadata": {
        "id": "sHNP-1aYbrx3"
      },
      "source": [
        "# Pneumonia Detection Using PySpark\n",
        "Pneumonia is a serious lung infection that can be life-threatening if not diagnosed and treated promptly. In this project, we aim to build a machine learning pipeline using PySpark to classify chest X-ray images into categories, such as \"Normal\" and \"Pneumonia.\" PySpark, a powerful distributed computing framework, allows us to efficiently preprocess large datasets and train scalable machine learning models. By leveraging advanced classification algorithms, we will compare the performance of different models, including Logistic Regression, Random Forest, Gradient-Boosted Trees, and Support Vector Machines (SVM). The project demonstrates the full workflow, from data preprocessing and model training to evaluation and visualization, showcasing how PySpark can be used for large-scale image-based machine learning tasks."
      ]
    },
    {
      "cell_type": "markdown",
      "metadata": {
        "id": "DSJM9XICcFMg"
      },
      "source": [
        "Initialize the Spark session and configure memory for efficient processing"
      ]
    },
    {
      "cell_type": "code",
      "execution_count": null,
      "metadata": {
        "id": "yvli8qluJdYx"
      },
      "outputs": [],
      "source": [
        "!pip install -q pyspark\n",
        "\n",
        "appname = \"Pneumonia Prediction 2\"\n",
        "\n",
        "from pyspark.sql import SparkSession\n",
        "# Before starting the SparkSession\n",
        "# Increase the driver memory\n",
        "spark = SparkSession.builder.appName(appname) \\\n",
        "    .master(\"local[*]\") \\\n",
        "    .config(\"spark.driver.memory\", \"8g\") \\\n",
        "    .getOrCreate()"
      ]
    },
    {
      "cell_type": "markdown",
      "metadata": {
        "id": "2WwAOaxLcGqE"
      },
      "source": [
        "Download kaggle data"
      ]
    },
    {
      "cell_type": "code",
      "execution_count": null,
      "metadata": {
        "colab": {
          "base_uri": "https://localhost:8080/"
        },
        "id": "j0WaU_BRJmQM",
        "outputId": "f7b5db1e-297e-4f48-d3bb-de0e53c9c185"
      },
      "outputs": [
        {
          "name": "stdout",
          "output_type": "stream",
          "text": [
            "Downloading from https://www.kaggle.com/api/v1/datasets/download/paultimothymooney/chest-xray-pneumonia?dataset_version_number=2...\n"
          ]
        },
        {
          "name": "stderr",
          "output_type": "stream",
          "text": [
            "100%|██████████| 2.29G/2.29G [01:28<00:00, 27.9MB/s]"
          ]
        },
        {
          "name": "stdout",
          "output_type": "stream",
          "text": [
            "Extracting files...\n"
          ]
        },
        {
          "name": "stderr",
          "output_type": "stream",
          "text": [
            "\n"
          ]
        },
        {
          "name": "stdout",
          "output_type": "stream",
          "text": [
            "Path to dataset files: /root/.cache/kagglehub/datasets/paultimothymooney/chest-xray-pneumonia/versions/2\n"
          ]
        }
      ],
      "source": [
        "import kagglehub\n",
        "\n",
        "# Download latest version\n",
        "path = kagglehub.dataset_download(\"paultimothymooney/chest-xray-pneumonia\")\n",
        "\n",
        "print(\"Path to dataset files:\", path)"
      ]
    },
    {
      "cell_type": "code",
      "execution_count": null,
      "metadata": {
        "colab": {
          "base_uri": "https://localhost:8080/"
        },
        "id": "W9HlTWXKJp1Y",
        "outputId": "c3bcbece-dc94-4791-cb20-49509fbe409e"
      },
      "outputs": [
        {
          "name": "stdout",
          "output_type": "stream",
          "text": [
            "Root: /root/.cache/kagglehub/datasets/paultimothymooney/chest-xray-pneumonia/versions/2, Directories: ['chest_xray'], Files: 0\n",
            "Root: /root/.cache/kagglehub/datasets/paultimothymooney/chest-xray-pneumonia/versions/2/chest_xray, Directories: ['train', 'val', 'test', 'chest_xray', '__MACOSX'], Files: 0\n",
            "Root: /root/.cache/kagglehub/datasets/paultimothymooney/chest-xray-pneumonia/versions/2/chest_xray/train, Directories: ['NORMAL', 'PNEUMONIA'], Files: 0\n",
            "Root: /root/.cache/kagglehub/datasets/paultimothymooney/chest-xray-pneumonia/versions/2/chest_xray/train/NORMAL, Directories: [], Files: 1341\n",
            "Root: /root/.cache/kagglehub/datasets/paultimothymooney/chest-xray-pneumonia/versions/2/chest_xray/train/PNEUMONIA, Directories: [], Files: 3875\n",
            "Root: /root/.cache/kagglehub/datasets/paultimothymooney/chest-xray-pneumonia/versions/2/chest_xray/val, Directories: ['NORMAL', 'PNEUMONIA'], Files: 0\n",
            "Root: /root/.cache/kagglehub/datasets/paultimothymooney/chest-xray-pneumonia/versions/2/chest_xray/val/NORMAL, Directories: [], Files: 8\n",
            "Root: /root/.cache/kagglehub/datasets/paultimothymooney/chest-xray-pneumonia/versions/2/chest_xray/val/PNEUMONIA, Directories: [], Files: 8\n",
            "Root: /root/.cache/kagglehub/datasets/paultimothymooney/chest-xray-pneumonia/versions/2/chest_xray/test, Directories: ['NORMAL', 'PNEUMONIA'], Files: 0\n",
            "Root: /root/.cache/kagglehub/datasets/paultimothymooney/chest-xray-pneumonia/versions/2/chest_xray/test/NORMAL, Directories: [], Files: 234\n",
            "Root: /root/.cache/kagglehub/datasets/paultimothymooney/chest-xray-pneumonia/versions/2/chest_xray/test/PNEUMONIA, Directories: [], Files: 390\n",
            "Root: /root/.cache/kagglehub/datasets/paultimothymooney/chest-xray-pneumonia/versions/2/chest_xray/chest_xray, Directories: ['train', 'val', 'test'], Files: 1\n",
            "Root: /root/.cache/kagglehub/datasets/paultimothymooney/chest-xray-pneumonia/versions/2/chest_xray/chest_xray/train, Directories: ['NORMAL', 'PNEUMONIA'], Files: 1\n",
            "Root: /root/.cache/kagglehub/datasets/paultimothymooney/chest-xray-pneumonia/versions/2/chest_xray/chest_xray/train/NORMAL, Directories: [], Files: 1342\n",
            "Root: /root/.cache/kagglehub/datasets/paultimothymooney/chest-xray-pneumonia/versions/2/chest_xray/chest_xray/train/PNEUMONIA, Directories: [], Files: 3876\n",
            "Root: /root/.cache/kagglehub/datasets/paultimothymooney/chest-xray-pneumonia/versions/2/chest_xray/chest_xray/val, Directories: ['NORMAL', 'PNEUMONIA'], Files: 1\n",
            "Root: /root/.cache/kagglehub/datasets/paultimothymooney/chest-xray-pneumonia/versions/2/chest_xray/chest_xray/val/NORMAL, Directories: [], Files: 9\n",
            "Root: /root/.cache/kagglehub/datasets/paultimothymooney/chest-xray-pneumonia/versions/2/chest_xray/chest_xray/val/PNEUMONIA, Directories: [], Files: 9\n",
            "Root: /root/.cache/kagglehub/datasets/paultimothymooney/chest-xray-pneumonia/versions/2/chest_xray/chest_xray/test, Directories: ['NORMAL', 'PNEUMONIA'], Files: 1\n",
            "Root: /root/.cache/kagglehub/datasets/paultimothymooney/chest-xray-pneumonia/versions/2/chest_xray/chest_xray/test/NORMAL, Directories: [], Files: 234\n",
            "Root: /root/.cache/kagglehub/datasets/paultimothymooney/chest-xray-pneumonia/versions/2/chest_xray/chest_xray/test/PNEUMONIA, Directories: [], Files: 390\n",
            "Root: /root/.cache/kagglehub/datasets/paultimothymooney/chest-xray-pneumonia/versions/2/chest_xray/__MACOSX, Directories: ['chest_xray'], Files: 1\n",
            "Root: /root/.cache/kagglehub/datasets/paultimothymooney/chest-xray-pneumonia/versions/2/chest_xray/__MACOSX/chest_xray, Directories: ['train', 'val', 'test'], Files: 3\n",
            "Root: /root/.cache/kagglehub/datasets/paultimothymooney/chest-xray-pneumonia/versions/2/chest_xray/__MACOSX/chest_xray/train, Directories: ['NORMAL', 'PNEUMONIA'], Files: 3\n",
            "Root: /root/.cache/kagglehub/datasets/paultimothymooney/chest-xray-pneumonia/versions/2/chest_xray/__MACOSX/chest_xray/train/NORMAL, Directories: [], Files: 1342\n",
            "Root: /root/.cache/kagglehub/datasets/paultimothymooney/chest-xray-pneumonia/versions/2/chest_xray/__MACOSX/chest_xray/train/PNEUMONIA, Directories: [], Files: 3876\n",
            "Root: /root/.cache/kagglehub/datasets/paultimothymooney/chest-xray-pneumonia/versions/2/chest_xray/__MACOSX/chest_xray/val, Directories: ['NORMAL', 'PNEUMONIA'], Files: 1\n",
            "Root: /root/.cache/kagglehub/datasets/paultimothymooney/chest-xray-pneumonia/versions/2/chest_xray/__MACOSX/chest_xray/val/NORMAL, Directories: [], Files: 9\n",
            "Root: /root/.cache/kagglehub/datasets/paultimothymooney/chest-xray-pneumonia/versions/2/chest_xray/__MACOSX/chest_xray/val/PNEUMONIA, Directories: [], Files: 9\n",
            "Root: /root/.cache/kagglehub/datasets/paultimothymooney/chest-xray-pneumonia/versions/2/chest_xray/__MACOSX/chest_xray/test, Directories: ['NORMAL', 'PNEUMONIA'], Files: 3\n",
            "Root: /root/.cache/kagglehub/datasets/paultimothymooney/chest-xray-pneumonia/versions/2/chest_xray/__MACOSX/chest_xray/test/NORMAL, Directories: [], Files: 234\n",
            "Root: /root/.cache/kagglehub/datasets/paultimothymooney/chest-xray-pneumonia/versions/2/chest_xray/__MACOSX/chest_xray/test/PNEUMONIA, Directories: [], Files: 390\n"
          ]
        }
      ],
      "source": [
        "import os\n",
        "\n",
        "# Check the folder structure\n",
        "base_path = \"/root/.cache/kagglehub/datasets/paultimothymooney/chest-xray-pneumonia/versions/2\"\n",
        "for root, dirs, files in os.walk(base_path):\n",
        "    print(f\"Root: {root}, Directories: {dirs}, Files: {len(files)}\")"
      ]
    },
    {
      "cell_type": "markdown",
      "metadata": {
        "id": "KkFCPLxpcRCU"
      },
      "source": [
        "Load the chest X-ray dataset and preprocess images (resize, grayscale, and flatten)\n",
        "\n",
        "Resize images to 128x128, convert to grayscale, and flatten into feature vectors\n",
        "\n",
        "Store the label (e.g., 'NORMAL', 'PNEUMONIA') along with the processed features"
      ]
    },
    {
      "cell_type": "code",
      "execution_count": null,
      "metadata": {
        "id": "vz8bLfDnKPfA"
      },
      "outputs": [],
      "source": [
        "from pyspark.sql import Row\n",
        "from PIL import Image\n",
        "import numpy as np\n",
        "import os\n",
        "\n",
        "def load_images_with_labels(folder):\n",
        "    data = []\n",
        "    for subfolder in os.listdir(folder):\n",
        "        label_path = os.path.join(folder, subfolder)\n",
        "        if os.path.isdir(label_path):\n",
        "            for file in os.listdir(label_path):\n",
        "                file_path = os.path.join(label_path, file)\n",
        "                try:\n",
        "                    # Open and preprocess the image\n",
        "                    img = Image.open(file_path).convert(\"L\")  # Convert to grayscale\n",
        "                    img = img.resize((128, 128))  # Resize to 128x128\n",
        "                    img_array = np.array(img).flatten().tolist()  # Flatten to a 1D array\n",
        "                    data.append(Row(label=subfolder, features=img_array))\n",
        "                except Exception as e:\n",
        "                    print(f\"Error processing {file_path}: {e}\")\n",
        "    return data"
      ]
    },
    {
      "cell_type": "markdown",
      "metadata": {
        "id": "FnioIQtzctpw"
      },
      "source": [
        "Split the dataset into training and testing sets"
      ]
    },
    {
      "cell_type": "code",
      "execution_count": null,
      "metadata": {
        "colab": {
          "base_uri": "https://localhost:8080/"
        },
        "id": "xOfZlvqKKR9F",
        "outputId": "86e8b9ff-31b4-4f72-888a-3e15bd9b1ae3"
      },
      "outputs": [
        {
          "name": "stdout",
          "output_type": "stream",
          "text": [
            "+------+--------------------+\n",
            "| label|            features|\n",
            "+------+--------------------+\n",
            "|NORMAL|[82, 92, 90, 104,...|\n",
            "|NORMAL|[24, 31, 43, 51, ...|\n",
            "|NORMAL|[31, 40, 55, 63, ...|\n",
            "|NORMAL|[41, 49, 57, 62, ...|\n",
            "|NORMAL|[133, 117, 108, 1...|\n",
            "+------+--------------------+\n",
            "only showing top 5 rows\n",
            "\n"
          ]
        }
      ],
      "source": [
        "# Paths\n",
        "train_path = \"/root/.cache/kagglehub/datasets/paultimothymooney/chest-xray-pneumonia/versions/2/chest_xray/train\"\n",
        "test_path = \"/root/.cache/kagglehub/datasets/paultimothymooney/chest-xray-pneumonia/versions/2/chest_xray/test\"\n",
        "val_path = \"/root/.cache/kagglehub/datasets/paultimothymooney/chest-xray-pneumonia/versions/2/chest_xray/val\"\n",
        "\n",
        "# Load data\n",
        "train_data = load_images_with_labels(train_path)\n",
        "test_data = load_images_with_labels(test_path)\n",
        "val_data = load_images_with_labels(val_path)\n",
        "\n",
        "# Create PySpark DataFrames\n",
        "train_df = spark.createDataFrame(train_data)\n",
        "test_df = spark.createDataFrame(test_data)\n",
        "val_df = spark.createDataFrame(val_data)\n",
        "\n",
        "# Show a sample of the data\n",
        "train_df.show(5)"
      ]
    },
    {
      "cell_type": "markdown",
      "metadata": {
        "id": "aRkVCMbdcgMr"
      },
      "source": [
        "Converts label string to numerical value"
      ]
    },
    {
      "cell_type": "code",
      "execution_count": null,
      "metadata": {
        "colab": {
          "base_uri": "https://localhost:8080/"
        },
        "id": "FSxrWMt6KU3v",
        "outputId": "1ea76a45-3489-440e-f663-700f12b5e003"
      },
      "outputs": [
        {
          "name": "stdout",
          "output_type": "stream",
          "text": [
            "+--------------------+------+-----------+\n",
            "|            features| label|label_index|\n",
            "+--------------------+------+-----------+\n",
            "|[82, 92, 90, 104,...|NORMAL|        1.0|\n",
            "|[24, 31, 43, 51, ...|NORMAL|        1.0|\n",
            "|[31, 40, 55, 63, ...|NORMAL|        1.0|\n",
            "|[41, 49, 57, 62, ...|NORMAL|        1.0|\n",
            "|[133, 117, 108, 1...|NORMAL|        1.0|\n",
            "+--------------------+------+-----------+\n",
            "only showing top 5 rows\n",
            "\n"
          ]
        }
      ],
      "source": [
        "from pyspark.ml.feature import StringIndexer\n",
        "\n",
        "# Convert labels to numeric\n",
        "label_indexer = StringIndexer(inputCol=\"label\", outputCol=\"label_index\")\n",
        "train_df = label_indexer.fit(train_df).transform(train_df)\n",
        "test_df = label_indexer.fit(test_df).transform(test_df)\n",
        "val_df = label_indexer.fit(val_df).transform(val_df)\n",
        "\n",
        "# Show the processed DataFrame\n",
        "train_df.select(\"features\", \"label\", \"label_index\").show(5)"
      ]
    },
    {
      "cell_type": "markdown",
      "metadata": {
        "id": "uMRBDeHPcemd"
      },
      "source": [
        "Convert the feature arrays into DenseVectors for compatibility with PySpark MLlib"
      ]
    },
    {
      "cell_type": "code",
      "execution_count": null,
      "metadata": {
        "id": "4rAWdhFRKVbR"
      },
      "outputs": [],
      "source": [
        "from pyspark.ml.linalg import Vectors, VectorUDT\n",
        "from pyspark.sql.functions import udf\n",
        "\n",
        "# UDF to convert array to DenseVector\n",
        "def to_dense_vector(array):\n",
        "    return Vectors.dense(array)\n",
        "\n",
        "# Define the UDF with VectorUDT\n",
        "to_dense_vector_udf = udf(to_dense_vector, VectorUDT())\n",
        "\n",
        "# Apply the UDF to convert the features column\n",
        "train_df = train_df.withColumn(\"features_vector\", to_dense_vector_udf(train_df[\"features\"]))\n",
        "test_df = test_df.withColumn(\"features_vector\", to_dense_vector_udf(test_df[\"features\"]))\n",
        "val_df = val_df.withColumn(\"features_vector\", to_dense_vector_udf(val_df[\"features\"]))"
      ]
    },
    {
      "cell_type": "markdown",
      "metadata": {
        "id": "M3J0KZQjc2-g"
      },
      "source": [
        "Train a Logistic Regression model on the preprocessed training dataset\n",
        "\n",
        "Logistic Regression is used as a baseline for classification"
      ]
    },
    {
      "cell_type": "code",
      "execution_count": null,
      "metadata": {
        "colab": {
          "background_save": true
        },
        "id": "a6Brwfs8KZSA",
        "outputId": "7c689ea5-1a1b-4eac-9914-4823d62bbd75"
      },
      "outputs": [
        {
          "name": "stdout",
          "output_type": "stream",
          "text": [
            "Logistic Regression Accuracy: 0.7772435897435898\n"
          ]
        }
      ],
      "source": [
        "from pyspark.ml.classification import LogisticRegression\n",
        "\n",
        "# Initialize the logistic regression model\n",
        "lr = LogisticRegression(featuresCol=\"features_vector\", labelCol=\"label_index\", maxIter=10)\n",
        "\n",
        "# Train the logistic regression model\n",
        "lr_model = lr.fit(train_df)\n",
        "\n",
        "# Make predictions\n",
        "lr_predictions = lr_model.transform(test_df)\n",
        "\n",
        "# Evaluate\n",
        "from pyspark.ml.evaluation import MulticlassClassificationEvaluator\n",
        "\n",
        "evaluator = MulticlassClassificationEvaluator(labelCol=\"label_index\", predictionCol=\"prediction\", metricName=\"accuracy\")\n",
        "lr_accuracy = evaluator.evaluate(lr_predictions)\n",
        "print(f\"Logistic Regression Accuracy: {lr_accuracy}\")"
      ]
    },
    {
      "cell_type": "markdown",
      "metadata": {
        "id": "-KhN52eGc53x"
      },
      "source": [
        "Train a Random Forest model for classification\n",
        "\n",
        "Random Forest is robust and handles non-linear patterns well"
      ]
    },
    {
      "cell_type": "code",
      "execution_count": null,
      "metadata": {
        "colab": {
          "background_save": true
        },
        "id": "5N8XwKhINWsR",
        "outputId": "b6e0149f-cdf7-4205-859b-77e12cfdf154"
      },
      "outputs": [
        {
          "name": "stdout",
          "output_type": "stream",
          "text": [
            "Random Forest Accuracy: 0.7483974358974359\n"
          ]
        }
      ],
      "source": [
        "from pyspark.ml.classification import RandomForestClassifier\n",
        "\n",
        "# Initialize the Random Forest model\n",
        "rf = RandomForestClassifier(featuresCol=\"features_vector\", labelCol=\"label_index\", numTrees=100)\n",
        "\n",
        "# Train the Random Forest model\n",
        "rf_model = rf.fit(train_df)\n",
        "\n",
        "# Make predictions\n",
        "rf_predictions = rf_model.transform(test_df)\n",
        "\n",
        "# Evaluate\n",
        "rf_accuracy = evaluator.evaluate(rf_predictions)\n",
        "print(f\"Random Forest Accuracy: {rf_accuracy}\")"
      ]
    },
    {
      "cell_type": "markdown",
      "metadata": {
        "id": "uQ09sE99c9EH"
      },
      "source": [
        "Train a Gradient-Boosted Trees model for classification\n",
        "\n",
        "GBT is a powerful boosting algorithm that often yields high accuracy"
      ]
    },
    {
      "cell_type": "code",
      "execution_count": null,
      "metadata": {
        "colab": {
          "background_save": true
        },
        "id": "WCvdIq58PGAg",
        "outputId": "d816892f-fc6f-4c7f-b34c-61bf5d40b960"
      },
      "outputs": [
        {
          "name": "stdout",
          "output_type": "stream",
          "text": [
            "Gradient-Boosted Trees Accuracy: 0.7259615384615384\n"
          ]
        }
      ],
      "source": [
        "from pyspark.ml.classification import GBTClassifier\n",
        "\n",
        "# Initialize the Gradient-Boosted Trees model\n",
        "gbt = GBTClassifier(featuresCol=\"features_vector\", labelCol=\"label_index\", maxIter=50)\n",
        "\n",
        "# Train the GBT model\n",
        "gbt_model = gbt.fit(train_df)\n",
        "\n",
        "# Make predictions\n",
        "gbt_predictions = gbt_model.transform(test_df)\n",
        "\n",
        "# Evaluate\n",
        "gbt_accuracy = evaluator.evaluate(gbt_predictions)\n",
        "print(f\"Gradient-Boosted Trees Accuracy: {gbt_accuracy}\")"
      ]
    },
    {
      "cell_type": "markdown",
      "metadata": {
        "id": "id-C0NvedD5m"
      },
      "source": [
        "Train a Support Vector Machine (SVM) model for binary classification\n",
        "\n",
        "SVM is effective for high-dimensional datasets like image data"
      ]
    },
    {
      "cell_type": "code",
      "execution_count": null,
      "metadata": {
        "colab": {
          "background_save": true
        },
        "id": "Yntu8CGIXV6O",
        "outputId": "2146063e-17eb-4736-a228-d669b961584d"
      },
      "outputs": [
        {
          "name": "stdout",
          "output_type": "stream",
          "text": [
            "SVM Accuracy: 0.7964743589743589\n"
          ]
        }
      ],
      "source": [
        "from pyspark.ml.classification import LinearSVC\n",
        "\n",
        "# Initialize the Support Vector Machine model\n",
        "svm = LinearSVC(featuresCol=\"features_vector\", labelCol=\"label_index\", maxIter=10)\n",
        "\n",
        "# Train the SVM model\n",
        "svm_model = svm.fit(train_df)\n",
        "\n",
        "# Make predictions\n",
        "svm_predictions = svm_model.transform(test_df)\n",
        "\n",
        "# Evaluate\n",
        "svm_accuracy = evaluator.evaluate(svm_predictions)\n",
        "print(f\"SVM Accuracy: {svm_accuracy}\")"
      ]
    },
    {
      "cell_type": "markdown",
      "metadata": {
        "id": "2_DBRZxfdHUX"
      },
      "source": [
        "Store the names of the models and their respective accuracies for comparison\n",
        "\n",
        "Plot the accuracies of the trained models using a bar chart\n",
        "\n",
        "Visualize the model performance to identify the best classifier\n",
        "\n",
        "Add data labels to the chart for clarity"
      ]
    },
    {
      "cell_type": "code",
      "execution_count": null,
      "metadata": {
        "colab": {
          "background_save": true
        },
        "id": "zbznSz7GZzj_",
        "outputId": "6c83ae00-987d-414f-f36c-aa7a5f175652"
      },
      "outputs": [
        {
          "data": {
            "image/png": "[encoded data removed]",
            "text/plain": [
              "<Figure size 1000x600 with 1 Axes>"
            ]
          },
          "metadata": {},
          "output_type": "display_data"
        },
        {
          "name": "stdout",
          "output_type": "stream",
          "text": [
            "SVM Accuracy: 0.7772\n",
            "Gradient-Boosted Trees Accuracy: 0.7484\n",
            "Random Forest Accuracy: 0.7260\n",
            "Logistic Regression Accuracy: 0.7965\n"
          ]
        }
      ],
      "source": [
        "import matplotlib.pyplot as plt\n",
        "\n",
        "# Model names as strings\n",
        "model_names = [\"SVM\", \"Gradient-Boosted Trees\", \"Random Forest\", \"Logistic Regression\"]\n",
        "\n",
        "# Numeric accuracies (remove the text labels)\n",
        "model_accuracies = [lr_accuracy,rf_accuracy,gbt_accuracy,svm_accuracy]\n",
        "\n",
        "# Plot the accuracies\n",
        "plt.figure(figsize=(10, 6))\n",
        "plt.bar(model_names, model_accuracies, color=\"skyblue\", edgecolor=\"black\")\n",
        "plt.ylim(0, 1)  # Accuracy range (0-1)\n",
        "plt.ylabel(\"Accuracy\")\n",
        "plt.xlabel(\"Models\")\n",
        "plt.title(\"Comparison of Model Accuracies\")\n",
        "plt.xticks(rotation=45, ha=\"right\")  # Rotate x-axis labels for better visibility\n",
        "\n",
        "# Add data labels to each bar\n",
        "for i, accuracy in enumerate(model_accuracies):\n",
        "    plt.text(i, accuracy + 0.01, f\"{accuracy:.2f}\", ha=\"center\", va=\"bottom\")\n",
        "\n",
        "# Show the plot\n",
        "plt.tight_layout()\n",
        "plt.show()\n",
        "\n",
        "# Print the accuracies for reference\n",
        "for name, acc in zip(model_names, model_accuracies):\n",
        "    print(f\"{name} Accuracy: {acc:.4f}\")"
      ]
    },
    {
      "cell_type": "markdown",
      "metadata": {
        "id": "_fwZfmzAq071"
      },
      "source": [
        "###BigDL ATTEMPT"
      ]
    },
    {
      "cell_type": "code",
      "execution_count": null,
      "metadata": {
        "colab": {
          "background_save": true
        },
        "id": "itcwXVKgq9hG"
      },
      "outputs": [],
      "source": [
        "from bigdl.dllib.feature.image import ImageSet\n",
        "\n",
        "# Convert DataFrame to ImageSet\n",
        "train_imageset = ImageSet.read(train_path, sc=spark.sparkContext)\n",
        "test_imageset = ImageSet.read(test_path, sc=spark.sparkContext)\n",
        "val_imageset = ImageSet.read(val_path, sc=spark.sparkContext)"
      ]
    },
    {
      "cell_type": "code",
      "execution_count": null,
      "metadata": {
        "id": "WDSQ-ceZrLyW"
      },
      "outputs": [],
      "source": [
        "from bigdl.dllib.nn.layer import Sequential\n",
        "from bigdl.dllib.nn.layer import SpatialConvolution, SpatialMaxPooling, ReLU, View, Linear, SoftMax\n",
        "\n",
        "model = Sequential()\n",
        "model.add(SpatialConvolution(3, 64, 3, 3, 1, 1))\n",
        "model.add(ReLU())\n",
        "model.add(SpatialMaxPooling(2, 2, 2, 2))\n",
        "model.add(View([-1, 64 * 112 * 112]))\n",
        "model.add(Linear(64 * 112 * 112, 128))\n",
        "model.add(ReLU())\n",
        "model.add(Linear(128, 2))\n",
        "model.add(SoftMax())"
      ]
    },
    {
      "cell_type": "code",
      "execution_count": null,
      "metadata": {
        "id": "dGtCPDrurSwC"
      },
      "outputs": [],
      "source": [
        "classifier = NNClassifier(model, CrossEntropyCriterion(), [8]) \\\n",
        "    .setOptimMethod(Adam()) \\\n",
        "    .setBatchSize(32) \\\n",
        "    .setMaxEpoch(150)"
      ]
    },
    {
      "cell_type": "code",
      "execution_count": null,
      "metadata": {
        "id": "1yHYlDj8r6YW"
      },
      "outputs": [],
      "source": [
        "#Resize images\n",
        "from bigdl.dllib.feature.image.transform import Resize, ChannelNormalize, MatToTensor, FeatureToSample, Pipeline\n",
        "\n",
        "# Define image transformation pipeline for BigDL 0.14.0\n",
        "transform_pipeline = Pipeline([\n",
        "    Resize(224, 224),  # Resize images\n",
        "    ChannelNormalize(0.5, 0.5, 0.5, 0.5),  # Normalize\n",
        "    MatToTensor(format=\"NHWC\"),  # Convert to tensor\n",
        "    FeatureToSample()\n",
        "])\n",
        "\n",
        "# Apply transformations to ImageSet\n",
        "train_imageset = transform_pipeline(train_imageset)\n",
        "test_imageset = transform_pipeline(test_imageset)\n",
        "val_imageset = transform_pipeline(val_imageset)\n"
      ]
    },
    {
      "cell_type": "markdown",
      "source": [
        "The BigDL shows several inconvinience along the attemps, it was not possible to obtain a great success and this is mainly related to the incompatibility between the PySpark DataFrame format and BigDL’s ImageSet expectations. Chest X-ray data set contain imagen that must be convert into RDD of Imagefeature trough Transformation Pipeline in order to resize, however it was failing not matter all the methods we used likely due to version mismatches, also another issue we encounter is that even we generate our pysoark dataframe with label it was not recognize for BigDL model. There are key recommendation that can be applied for future image dataset project including testing update version and manually extracting image paths, raw data, and labels from PySpark DataFrame."
      ],
      "metadata": {
        "id": "NksXaEUqOgCs"
      }
    },
    {
      "cell_type": "markdown",
      "metadata": {
        "id": "MhBAPtAhbXd5"
      },
      "source": [
        "# Conclusion\n",
        "In this project, we built a machine learning pipeline using PySpark to classify chest X-ray images into categories, such as detecting pneumonia. First, we initialized a PySpark SparkSession and loaded the dataset, preprocessing the images by resizing them to a fixed size (128x128), converting them to grayscale, and flattening them into feature vectors. We ensured the data was correctly formatted with labels indexed as numeric values and features represented as Spark DenseVector objects. Next, we trained several machine learning models, including Logistic Regression, Random Forest, Gradient-Boosted Trees, and Support Vector Machines (SVM), using the features_vector as input features and label_index as target labels. For each model, we evaluated its performance on a test dataset using the MulticlassClassificationEvaluator to calculate accuracy. Finally, we visualized the accuracies of all models using a bar chart created with Matplotlib, enabling us to compare their performance and choose the best-performing model. This end-to-end workflow demonstrates how to use PySpark for distributed data processing and machine learning on image datasets, leveraging its scalability and flexibility to handle large-scale data efficiently."
      ]
    },
    {
      "cell_type": "markdown",
      "source": [
        "#Cross-evaluation of all members of the group\n",
        "* Nathan Junod - 10\n",
        "* Laura Piñeres-Santos - 10\n",
        "* Alejandro Rodriguez Sancho - 10"
      ],
      "metadata": {
        "id": "v1ZOtW_ffsof"
      }
    }
  ],
  "metadata": {
    "colab": {
      "provenance": [],
      "include_colab_link": true
    },
    "kernelspec": {
      "display_name": "Python 3",
      "name": "python3"
    },
    "language_info": {
      "name": "python"
    }
  },
  "nbformat": 4,
  "nbformat_minor": 0
}